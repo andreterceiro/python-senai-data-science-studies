{
 "cells": [
  {
   "cell_type": "code",
   "execution_count": null,
   "metadata": {},
   "outputs": [],
   "source": [
    "Exercício 1: Cálculo da Amplitude\n",
    "Considere o conjunto de dados a seguir que representa o número de vendas de uma loja durante uma semana:\n",
    "12,18,25,30,20,22,15\n",
    "Calcule a amplitude desse conjunto de dados."
   ]
  },
  {
   "cell_type": "code",
   "execution_count": 12,
   "metadata": {},
   "outputs": [
    {
     "name": "stdout",
     "output_type": "stream",
     "text": [
      "18\n"
     ]
    }
   ],
   "source": [
    "def resolver_exercicio1(dados):\n",
    "\n",
    "    return max(dados) - min(dados)\n",
    "\n",
    "print(resolver_exercicio1([12,18,25,30,20,22,15]))"
   ]
  },
  {
   "attachments": {},
   "cell_type": "markdown",
   "metadata": {},
   "source": [
    "Exercício 2: Cálculo da Variância\n",
    "Um professor registrou as notas de 4 alunos em um exame. As notas são:\n",
    "70,80,85,90\n",
    "Calcule a variância dessas notas."
   ]
  },
  {
   "cell_type": "code",
   "execution_count": 15,
   "metadata": {},
   "outputs": [
    {
     "name": "stdout",
     "output_type": "stream",
     "text": [
      "54.6875\n"
     ]
    }
   ],
   "source": [
    "def resolver_exercicio2(dados):\n",
    "    media = sum(dados) / len(dados)\n",
    "    soma_quadrados = 0.0\n",
    "    for i in dados:\n",
    "        soma_quadrados += (i - media) ** 2\n",
    "    return soma_quadrados / len(dados)\n",
    "\n",
    "print(resolver_exercicio2([70,80,85,90]))"
   ]
  },
  {
   "attachments": {},
   "cell_type": "markdown",
   "metadata": {},
   "source": [
    "Exercício 3: Cálculo do Desvio Padrão\n",
    "Dado o seguinte conjunto de dados:\n",
    "10,14,18,20,22\n",
    "Calcule o Desvio Padrão"
   ]
  },
  {
   "cell_type": "code",
   "execution_count": 19,
   "metadata": {},
   "outputs": [
    {
     "name": "stdout",
     "output_type": "stream",
     "text": [
      "4.308131845707603\n"
     ]
    }
   ],
   "source": [
    "def resolver_exercicio2(dados):\n",
    "    media = sum(dados) / len(dados)\n",
    "    soma_quadrados = 0.0\n",
    "    for i in dados:\n",
    "        soma_quadrados += (i - media) ** 2\n",
    "    return soma_quadrados / len(dados)\n",
    "\n",
    "variancia = resolver_exercicio2([10,14,18,20,22])\n",
    "\n",
    "def resolver_exercicio3(dado):\n",
    "    return dado ** 0.5\n",
    "\n",
    "print(resolver_exercicio3(variancia))\n"
   ]
  },
  {
   "attachments": {},
   "cell_type": "markdown",
   "metadata": {},
   "source": [
    "\n",
    "Exercício 4: Interpretação do Desvio Padrão\n",
    "Você tem duas distribuições de dados:\n",
    "Conjunto A: Média = 100, Desvio Padrão = 5\n",
    "Conjunto B: Média = 100, Desvio Padrão = 20\n",
    "Qual dos conjuntos tem dados mais dispersos em relação à média? Explique."
   ]
  },
  {
   "attachments": {},
   "cell_type": "markdown",
   "metadata": {},
   "source": [
    "**Resposta**: conjunto B, pois o desvio padrão é maior."
   ]
  }
 ],
 "metadata": {
  "kernelspec": {
   "display_name": "Python 3",
   "language": "python",
   "name": "python3"
  },
  "language_info": {
   "codemirror_mode": {
    "name": "ipython",
    "version": 3
   },
   "file_extension": ".py",
   "mimetype": "text/x-python",
   "name": "python",
   "nbconvert_exporter": "python",
   "pygments_lexer": "ipython3",
   "version": "3.12.7"
  },
  "orig_nbformat": 4
 },
 "nbformat": 4,
 "nbformat_minor": 2
}
