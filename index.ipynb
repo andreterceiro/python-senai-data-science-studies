{
 "cells": [
  {
   "cell_type": "markdown",
   "metadata": {},
   "source": [
    "# General\n",
    "\n",
    "## Important links\n",
    "\n",
    "To study:\n",
    "\n",
    "- **Pandas**: https://www.w3schools.com/python/pandas/default.asp;\n",
    "- **Numpy**: https://www.w3schools.com/python/numpy/default.asp.\n",
    "- **Class in Google Classroom**: https://classroom.google.com/c/Njg1NTUzMzU4OTM1"
   ]
  },
  {
   "cell_type": "markdown",
   "metadata": {},
   "source": [
    "About constants: https://pt.stackoverflow.com/a/417311"
   ]
  },
  {
   "cell_type": "markdown",
   "metadata": {},
   "source": [
    "And I can add an item to a list this simple way:"
   ]
  },
  {
   "cell_type": "code",
   "execution_count": 5,
   "metadata": {},
   "outputs": [
    {
     "name": "stdout",
     "output_type": "stream",
     "text": [
      "['a', 'b', 'c', 'd']\n",
      "['a', 'b', 'c', 'd', 'e', 'f']\n"
     ]
    }
   ],
   "source": [
    "test_list = [\"a\", \"b\", \"c\"]\n",
    "test_list += \"d\"\n",
    "print(test_list)\n",
    "test_list += [\"e\", \"f\"]\n",
    "print(test_list)"
   ]
  },
  {
   "cell_type": "markdown",
   "metadata": {},
   "source": [
    "But we have some specif methods to do this task:"
   ]
  },
  {
   "cell_type": "code",
   "execution_count": 9,
   "metadata": {},
   "outputs": [
    {
     "name": "stdout",
     "output_type": "stream",
     "text": [
      "['a', 'b', 'd', 'e', 'f']\n",
      "['a', 'b', 'c', 'd', 'e', 'f']\n"
     ]
    }
   ],
   "source": [
    "test_list = [\"a\", \"b\", \"d\"]\n",
    "test_list.append(\"e\")\n",
    "test_list.append(\"f\")\n",
    "print(test_list)\n",
    "test_list.insert(2, \"c\")\n",
    "print(test_list)"
   ]
  },
  {
   "cell_type": "markdown",
   "metadata": {},
   "source": [
    "In case of adding another list, the behaviour is different form the plus (\"+\") operator, see:"
   ]
  },
  {
   "cell_type": "code",
   "execution_count": 12,
   "metadata": {},
   "outputs": [
    {
     "name": "stdout",
     "output_type": "stream",
     "text": [
      "['a', 'b', 'c', 'd', 'e']\n",
      "['a', 'b', 'c', 'd', 'e', ['f', 'g'], ['h', 'i']]\n"
     ]
    }
   ],
   "source": [
    "test_list = [\"a\", \"b\", \"c\"]\n",
    "test_list += [\"d\", \"e\"]\n",
    "print(test_list)\n",
    "test_list.append([\"h\", \"i\"])\n",
    "test_list.insert(5, [\"f\", \"g\"])\n",
    "print(test_list)"
   ]
  },
  {
   "cell_type": "markdown",
   "metadata": {},
   "source": [
    "What is a function and what is a method of a list or a tupple or a dictionary. Firt of all, remember the methods are not common, as **example**:\n",
    "\n",
    "- We do not have a simple method to order a dictionary;\n",
    "- We can't add items to a tupple.\n",
    "\n",
    "Let's see some examples:"
   ]
  },
  {
   "cell_type": "code",
   "execution_count": 38,
   "metadata": {},
   "outputs": [
    {
     "name": "stdout",
     "output_type": "stream",
     "text": [
      "[1, 5, 9]\n",
      "3\n",
      "[1, 9]\n",
      "False\n",
      "True\n",
      "[0, '1', '2', '3', '4', '5', 6, 7]\n"
     ]
    }
   ],
   "source": [
    "# sorting a list\n",
    "list_example = [9, 1, 5]\n",
    "list_example.sort()\n",
    "print(list_example)\n",
    "\n",
    "# length\n",
    "print(len(list_example))\n",
    "\n",
    "# removing an item from a list\n",
    "del list_example[1]\n",
    "print(list_example)\n",
    "\n",
    "# adding an item to a list\n",
    "list_example = [\"1\", \"2\", \"3\"]\n",
    "list_example += \"4\"\n",
    "list_example += [\"5\"]\n",
    "list_example += [6]\n",
    "list_example.insert(0, 0)\n",
    "list_example.append(7)\n",
    "print(1 in list_example)\n",
    "print(\"1\" in list_example)\n",
    "\n",
    "print(list_example)"
   ]
  },
  {
   "cell_type": "markdown",
   "metadata": {},
   "source": [
    "**In case of plus operator**: if we was adding a string to a list, we can add a scalar or another list, but in case of integers, we can only add anoter list."
   ]
  },
  {
   "cell_type": "markdown",
   "metadata": {},
   "source": [
    "Tupple can be defined without parenthesis:"
   ]
  },
  {
   "cell_type": "code",
   "execution_count": 39,
   "metadata": {},
   "outputs": [
    {
     "data": {
      "text/plain": [
       "tuple"
      ]
     },
     "execution_count": 39,
     "metadata": {},
     "output_type": "execute_result"
    }
   ],
   "source": [
    "a = 1, 2, 3\n",
    "type(a)"
   ]
  },
  {
   "cell_type": "markdown",
   "metadata": {},
   "source": [
    "Unpacking list items to pass as arguments of a function:"
   ]
  },
  {
   "cell_type": "code",
   "execution_count": 40,
   "metadata": {},
   "outputs": [
    {
     "data": {
      "text/plain": [
       "3"
      ]
     },
     "execution_count": 40,
     "metadata": {},
     "output_type": "execute_result"
    }
   ],
   "source": [
    "numbers = [1, 2]\n",
    "\n",
    "def soma(number1, number2):\n",
    "    return number1 + number2\n",
    "\n",
    "soma(*numbers)"
   ]
  }
 ],
 "metadata": {
  "kernelspec": {
   "display_name": "Python 3",
   "language": "python",
   "name": "python3"
  },
  "language_info": {
   "codemirror_mode": {
    "name": "ipython",
    "version": 3
   },
   "file_extension": ".py",
   "mimetype": "text/x-python",
   "name": "python",
   "nbconvert_exporter": "python",
   "pygments_lexer": "ipython3",
   "version": "3.8.5"
  }
 },
 "nbformat": 4,
 "nbformat_minor": 2
}
