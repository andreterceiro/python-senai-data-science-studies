{
 "cells": [
  {
   "cell_type": "markdown",
   "metadata": {},
   "source": [
    "In pandas we have the `property` shape() (is **not** a **method**)"
   ]
  },
  {
   "cell_type": "code",
   "execution_count": null,
   "metadata": {},
   "outputs": [
    {
     "ename": "",
     "evalue": "",
     "output_type": "error",
     "traceback": [
      "\u001b[1;31mFalha ao iniciar o Kernel. \n",
      "\u001b[1;31mNão é possível iniciar o Kernel \"Python 3.8.5\" devido a um tempo limite aguardando as portas serem usadas. \n",
      "\u001b[1;31mConsulte o <a href='command:jupyter.viewOutput'>log</a> do Jupyter para obter mais detalhes."
     ]
    }
   ],
   "source": [
    "import pandas as pd\n",
    "\n",
    "dataset = pd.read_excel('alunos_altura_peso.xlsx')\n",
    "dataset.shape\n",
    "print(dataset.describe())\n"
   ]
  },
  {
   "cell_type": "markdown",
   "metadata": {},
   "source": [
    "Posso plotar um gráfico com o Pandas facilmente!"
   ]
  },
  {
   "cell_type": "code",
   "execution_count": 45,
   "metadata": {},
   "outputs": [
    {
     "data": {
      "text/plain": [
       "<AxesSubplot:>"
      ]
     },
     "execution_count": 45,
     "metadata": {},
     "output_type": "execute_result"
    },
    {
     "data": {
      "image/png": "[encoded data removed]",
      "text/plain": [
       "<Figure size 432x288 with 1 Axes>"
      ]
     },
     "metadata": {
      "needs_background": "light"
     },
     "output_type": "display_data"
    }
   ],
   "source": [
    "dataset.plot()"
   ]
  },
  {
   "cell_type": "markdown",
   "metadata": {},
   "source": [
    "To see the 5 top lines or 5 bottom lines, we have the methods `head` and `tail`"
   ]
  },
  {
   "cell_type": "code",
   "execution_count": 44,
   "metadata": {},
   "outputs": [
    {
     "name": "stdout",
     "output_type": "stream",
     "text": [
      "   Altura (cm)  Peso (kg)\n",
      "0          160         60\n",
      "1          170         72\n",
      "2          165         65\n",
      "3          168         68\n",
      "4          175         75\n",
      "    Altura (cm)  Peso (kg)\n",
      "45          162         62\n",
      "46          180         80\n",
      "47          173         73\n",
      "48          166         66\n",
      "49          167         67\n"
     ]
    }
   ],
   "source": [
    "print(dataset.head())\n",
    "print(dataset.tail())\n",
    "\n",
    "# In the above code only the last call will be printed if I do not use the method print()"
   ]
  },
  {
   "cell_type": "markdown",
   "metadata": {},
   "source": [
    "If I access the `dataset.head(0)`, I will know the index of exery column:"
   ]
  },
  {
   "cell_type": "code",
   "execution_count": 43,
   "metadata": {},
   "outputs": [
    {
     "name": "stdout",
     "output_type": "stream",
     "text": [
      "Empty DataFrame\n",
      "Columns: [Altura (cm), Peso (kg)]\n",
      "Index: []\n"
     ]
    }
   ],
   "source": [
    "print(dataset.head(0))"
   ]
  },
  {
   "cell_type": "markdown",
   "metadata": {},
   "source": [
    "- **entire table** = dataset\n",
    "- **every column** = serie\n",
    "\n",
    "If I wanna to access the serie related to a specific column, I need to use one of the labels returned in the command `dataset.head(0)`. Examples:"
   ]
  },
  {
   "cell_type": "code",
   "execution_count": 50,
   "metadata": {},
   "outputs": [
    {
     "name": "stdout",
     "output_type": "stream",
     "text": [
      "0     160\n",
      "1     170\n",
      "2     165\n",
      "3     168\n",
      "4     175\n",
      "5     180\n",
      "6     169\n",
      "7     174\n",
      "8     160\n",
      "9     158\n",
      "10    182\n",
      "11    173\n",
      "12    177\n",
      "13    165\n",
      "14    172\n",
      "15    163\n",
      "16    176\n",
      "17    171\n",
      "18    178\n",
      "19    179\n",
      "20    167\n",
      "21    166\n",
      "22    164\n",
      "23    174\n",
      "24    162\n",
      "25    159\n",
      "26    181\n",
      "27    170\n",
      "28    173\n",
      "29    169\n",
      "30    168\n",
      "31    180\n",
      "32    171\n",
      "33    158\n",
      "34    172\n",
      "35    174\n",
      "36    175\n",
      "37    165\n",
      "38    161\n",
      "39    160\n",
      "40    163\n",
      "41    176\n",
      "42    179\n",
      "43    177\n",
      "44    170\n",
      "45    162\n",
      "46    180\n",
      "47    173\n",
      "48    166\n",
      "49    167\n",
      "Name: Altura (cm), dtype: int64\n",
      "--------------\n",
      "0     60\n",
      "1     72\n",
      "2     65\n",
      "3     68\n",
      "4     75\n",
      "5     80\n",
      "6     69\n",
      "7     74\n",
      "8     60\n",
      "9     58\n",
      "10    82\n",
      "11    73\n",
      "12    77\n",
      "13    65\n",
      "14    72\n",
      "15    63\n",
      "16    76\n",
      "17    71\n",
      "18    78\n",
      "19    79\n",
      "20    67\n",
      "21    66\n",
      "22    64\n",
      "23    74\n",
      "24    62\n",
      "25    59\n",
      "26    81\n",
      "27    70\n",
      "28    73\n",
      "29    69\n",
      "30    68\n",
      "31    80\n",
      "32    71\n",
      "33    58\n",
      "34    72\n",
      "35    74\n",
      "36    75\n",
      "37    65\n",
      "38    61\n",
      "39    60\n",
      "40    63\n",
      "41    76\n",
      "42    79\n",
      "43    77\n",
      "44    70\n",
      "45    62\n",
      "46    80\n",
      "47    73\n",
      "48    66\n",
      "49    67\n",
      "Name: Peso (kg), dtype: int64\n"
     ]
    }
   ],
   "source": [
    "print(dataset['Altura (cm)'])\n",
    "# or\n",
    "print(\"--------------\")\n",
    "print(dataset['Peso (kg)'])\n",
    "\n",
    "# Again, you need to use the print function to see both outputs \n",
    "# or only the last output will be shown"
   ]
  }
 ],
 "metadata": {
  "kernelspec": {
   "display_name": "Python 3",
   "language": "python",
   "name": "python3"
  },
  "language_info": {
   "codemirror_mode": {
    "name": "ipython",
    "version": 3
   },
   "file_extension": ".py",
   "mimetype": "text/x-python",
   "name": "python",
   "nbconvert_exporter": "python",
   "pygments_lexer": "ipython3",
   "version": "3.8.5"
  }
 },
 "nbformat": 4,
 "nbformat_minor": 2
}
