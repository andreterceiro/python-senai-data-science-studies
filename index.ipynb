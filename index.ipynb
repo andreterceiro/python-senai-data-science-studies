{
 "cells": [
  {
   "cell_type": "markdown",
   "metadata": {},
   "source": [
    "# General\n",
    "\n",
    "## Important links\n",
    "\n",
    "To study:\n",
    "\n",
    "- **Pandas**: https://www.w3schools.com/python/pandas/default.asp;\n",
    "- **Numpy**: https://www.w3schools.com/python/numpy/default.asp.\n",
    "- **Class in Google Classroom**: https://classroom.google.com/c/Njg1NTUzMzU4OTM1"
   ]
  },
  {
   "cell_type": "markdown",
   "metadata": {},
   "source": [
    "About constants: https://pt.stackoverflow.com/a/417311"
   ]
  },
  {
   "cell_type": "markdown",
   "metadata": {},
   "source": [
    "E posso também adicionar 1 ou mais itens a uma lista desta forma:"
   ]
  },
  {
   "cell_type": "code",
   "execution_count": 4,
   "metadata": {},
   "outputs": [
    {
     "name": "stdout",
     "output_type": "stream",
     "text": [
      "['a', 'b', 'c', 'd']\n",
      "['a', 'b', 'c', 'd', 'e', 'f']\n"
     ]
    }
   ],
   "source": [
    "lista = [\"a\", \"b\", \"c\"]\n",
    "lista += \"d\"\n",
    "print(lista)\n",
    "lista += [\"e\", \"f\"]\n",
    "print(lista)"
   ]
  }
 ],
 "metadata": {
  "kernelspec": {
   "display_name": "Python 3",
   "language": "python",
   "name": "python3"
  },
  "language_info": {
   "codemirror_mode": {
    "name": "ipython",
    "version": 3
   },
   "file_extension": ".py",
   "mimetype": "text/x-python",
   "name": "python",
   "nbconvert_exporter": "python",
   "pygments_lexer": "ipython3",
   "version": "3.8.5"
  }
 },
 "nbformat": 4,
 "nbformat_minor": 2
}
