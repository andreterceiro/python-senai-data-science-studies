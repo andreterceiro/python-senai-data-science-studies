{
 "cells": [
  {
   "cell_type": "markdown",
   "metadata": {},
   "source": [
    "# General\n",
    "\n",
    "## Important links\n",
    "\n",
    "To study:\n",
    "\n",
    "- **Pandas**: https://www.w3schools.com/python/pandas/default.asp;\n",
    "- **Numpy**: https://www.w3schools.com/python/numpy/default.asp.\n",
    "- **Class in Google Classroom**: https://classroom.google.com/c/Njg1NTUzMzU4OTM1"
   ]
  },
  {
   "cell_type": "markdown",
   "metadata": {},
   "source": [
    "About constants: https://pt.stackoverflow.com/a/417311"
   ]
  }
 ],
 "metadata": {
  "language_info": {
   "name": "python"
  }
 },
 "nbformat": 4,
 "nbformat_minor": 2
}
