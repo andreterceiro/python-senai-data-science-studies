{
 "cells": [
  {
   "cell_type": "markdown",
   "metadata": {},
   "source": [
    "# General\n",
    "\n",
    "## Important links\n",
    "\n",
    "To study:\n",
    "\n",
    "- **Pandas**: https://www.w3schools.com/python/pandas/default.asp;\n",
    "- **Numpy**: https://www.w3schools.com/python/numpy/default.asp.\n",
    "- **Class in Google Classroom**: https://classroom.google.com/c/Njg1NTUzMzU4OTM1"
   ]
  },
  {
   "cell_type": "markdown",
   "metadata": {},
   "source": [
    "About constants: https://pt.stackoverflow.com/a/417311"
   ]
  },
  {
   "cell_type": "markdown",
   "metadata": {},
   "source": [
    "And I can add an item to a list this simple way:"
   ]
  },
  {
   "cell_type": "code",
   "execution_count": 5,
   "metadata": {},
   "outputs": [
    {
     "name": "stdout",
     "output_type": "stream",
     "text": [
      "['a', 'b', 'c', 'd']\n",
      "['a', 'b', 'c', 'd', 'e', 'f']\n"
     ]
    }
   ],
   "source": [
    "test_list = [\"a\", \"b\", \"c\"]\n",
    "test_list += \"d\"\n",
    "print(test_list)\n",
    "test_list += [\"e\", \"f\"]\n",
    "print(test_list)"
   ]
  },
  {
   "cell_type": "markdown",
   "metadata": {},
   "source": [
    "But we have some specif methods to do this task:"
   ]
  },
  {
   "cell_type": "code",
   "execution_count": 9,
   "metadata": {},
   "outputs": [
    {
     "name": "stdout",
     "output_type": "stream",
     "text": [
      "['a', 'b', 'd', 'e', 'f']\n",
      "['a', 'b', 'c', 'd', 'e', 'f']\n"
     ]
    }
   ],
   "source": [
    "test_list = [\"a\", \"b\", \"d\"]\n",
    "test_list.append(\"e\")\n",
    "test_list.append(\"f\")\n",
    "print(test_list)\n",
    "test_list.insert(2, \"c\")\n",
    "print(test_list)"
   ]
  },
  {
   "cell_type": "markdown",
   "metadata": {},
   "source": [
    "In case of adding another list, the behaviour is different form the plus (\"+\") operator, see:"
   ]
  },
  {
   "cell_type": "code",
   "execution_count": 12,
   "metadata": {},
   "outputs": [
    {
     "name": "stdout",
     "output_type": "stream",
     "text": [
      "['a', 'b', 'c', 'd', 'e']\n",
      "['a', 'b', 'c', 'd', 'e', ['f', 'g'], ['h', 'i']]\n"
     ]
    }
   ],
   "source": [
    "test_list = [\"a\", \"b\", \"c\"]\n",
    "test_list += [\"d\", \"e\"]\n",
    "print(test_list)\n",
    "test_list.append([\"h\", \"i\"])\n",
    "test_list.insert(5, [\"f\", \"g\"])\n",
    "print(test_list)"
   ]
  }
 ],
 "metadata": {
  "kernelspec": {
   "display_name": "Python 3",
   "language": "python",
   "name": "python3"
  },
  "language_info": {
   "codemirror_mode": {
    "name": "ipython",
    "version": 3
   },
   "file_extension": ".py",
   "mimetype": "text/x-python",
   "name": "python",
   "nbconvert_exporter": "python",
   "pygments_lexer": "ipython3",
   "version": "3.8.5"
  }
 },
 "nbformat": 4,
 "nbformat_minor": 2
}
